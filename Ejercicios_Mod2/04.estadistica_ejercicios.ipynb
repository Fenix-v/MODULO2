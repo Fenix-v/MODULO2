{
 "cells": [
  {
   "cell_type": "markdown",
   "id": "136d8ea3",
   "metadata": {},
   "source": [
    "## Estadística  Ejercicios"
   ]
  },
  {
   "cell_type": "code",
   "execution_count": 1,
   "id": "7320a211",
   "metadata": {},
   "outputs": [],
   "source": [
    "import numpy as np\n",
    "import matplotlib\n",
    "import matplotlib.pyplot as plt\n",
    "import scipy\n",
    "from scipy import stats\n",
    "\n",
    "import random\n",
    "import pickle as pkl"
   ]
  },
  {
   "cell_type": "code",
   "execution_count": 2,
   "id": "d5e2b23f",
   "metadata": {},
   "outputs": [
    {
     "name": "stdout",
     "output_type": "stream",
     "text": [
      "Requirement already satisfied: pandas in c:\\users\\varso\\appdata\\local\\programs\\python\\python313\\lib\\site-packages (2.2.3)\n",
      "Requirement already satisfied: numpy>=1.26.0 in c:\\users\\varso\\appdata\\local\\programs\\python\\python313\\lib\\site-packages (from pandas) (2.2.0)\n",
      "Requirement already satisfied: python-dateutil>=2.8.2 in c:\\users\\varso\\appdata\\roaming\\python\\python313\\site-packages (from pandas) (2.9.0.post0)\n",
      "Requirement already satisfied: pytz>=2020.1 in c:\\users\\varso\\appdata\\local\\programs\\python\\python313\\lib\\site-packages (from pandas) (2024.2)\n",
      "Requirement already satisfied: tzdata>=2022.7 in c:\\users\\varso\\appdata\\local\\programs\\python\\python313\\lib\\site-packages (from pandas) (2024.2)\n",
      "Requirement already satisfied: six>=1.5 in c:\\users\\varso\\appdata\\roaming\\python\\python313\\site-packages (from python-dateutil>=2.8.2->pandas) (1.17.0)\n",
      "Note: you may need to restart the kernel to use updated packages.\n"
     ]
    }
   ],
   "source": [
    "pip install pandas"
   ]
  },
  {
   "cell_type": "code",
   "execution_count": 3,
   "id": "72b73a62-1b81-4902-a8ee-c25425a2169f",
   "metadata": {
    "tags": []
   },
   "outputs": [
    {
     "name": "stdout",
     "output_type": "stream",
     "text": [
      "numpy==2.2.0\n",
      "matplotlib==3.10.0\n",
      "scipy==1.14.1\n"
     ]
    }
   ],
   "source": [
    "# Versiones\n",
    "\n",
    "print(f\"numpy=={np.__version__}\")\n",
    "print(f\"matplotlib=={matplotlib.__version__}\")\n",
    "print(f\"scipy=={scipy.__version__}\")"
   ]
  },
  {
   "cell_type": "code",
   "execution_count": 4,
   "id": "2dbace1d",
   "metadata": {},
   "outputs": [
    {
     "ename": "FileNotFoundError",
     "evalue": "[Errno 2] No such file or directory: 'FUELCONSUMPTION_CITY.pkl'",
     "output_type": "error",
     "traceback": [
      "\u001b[1;31m---------------------------------------------------------------------------\u001b[0m",
      "\u001b[1;31mFileNotFoundError\u001b[0m                         Traceback (most recent call last)",
      "Cell \u001b[1;32mIn[4], line 1\u001b[0m\n\u001b[1;32m----> 1\u001b[0m \u001b[38;5;28;01mwith\u001b[39;00m \u001b[38;5;28;43mopen\u001b[39;49m\u001b[43m(\u001b[49m\u001b[38;5;124;43m\"\u001b[39;49m\u001b[38;5;124;43mFUELCONSUMPTION_CITY.pkl\u001b[39;49m\u001b[38;5;124;43m\"\u001b[39;49m\u001b[43m,\u001b[49m\u001b[43m \u001b[49m\u001b[38;5;124;43m\"\u001b[39;49m\u001b[38;5;124;43mbr\u001b[39;49m\u001b[38;5;124;43m\"\u001b[39;49m\u001b[43m)\u001b[49m \u001b[38;5;28;01mas\u001b[39;00m f:\n\u001b[0;32m      2\u001b[0m     fuel_city \u001b[38;5;241m=\u001b[39m pkl\u001b[38;5;241m.\u001b[39mload(f)\n\u001b[0;32m      4\u001b[0m \u001b[38;5;28;01mwith\u001b[39;00m \u001b[38;5;28mopen\u001b[39m(\u001b[38;5;124m\"\u001b[39m\u001b[38;5;124mFUELCONSUMPTION_HWY.pkl\u001b[39m\u001b[38;5;124m\"\u001b[39m, \u001b[38;5;124m\"\u001b[39m\u001b[38;5;124mbr\u001b[39m\u001b[38;5;124m\"\u001b[39m) \u001b[38;5;28;01mas\u001b[39;00m f:\n",
      "File \u001b[1;32m~\\AppData\\Roaming\\Python\\Python313\\site-packages\\IPython\\core\\interactiveshell.py:324\u001b[0m, in \u001b[0;36m_modified_open\u001b[1;34m(file, *args, **kwargs)\u001b[0m\n\u001b[0;32m    317\u001b[0m \u001b[38;5;28;01mif\u001b[39;00m file \u001b[38;5;129;01min\u001b[39;00m {\u001b[38;5;241m0\u001b[39m, \u001b[38;5;241m1\u001b[39m, \u001b[38;5;241m2\u001b[39m}:\n\u001b[0;32m    318\u001b[0m     \u001b[38;5;28;01mraise\u001b[39;00m \u001b[38;5;167;01mValueError\u001b[39;00m(\n\u001b[0;32m    319\u001b[0m         \u001b[38;5;124mf\u001b[39m\u001b[38;5;124m\"\u001b[39m\u001b[38;5;124mIPython won\u001b[39m\u001b[38;5;124m'\u001b[39m\u001b[38;5;124mt let you open fd=\u001b[39m\u001b[38;5;132;01m{\u001b[39;00mfile\u001b[38;5;132;01m}\u001b[39;00m\u001b[38;5;124m by default \u001b[39m\u001b[38;5;124m\"\u001b[39m\n\u001b[0;32m    320\u001b[0m         \u001b[38;5;124m\"\u001b[39m\u001b[38;5;124mas it is likely to crash IPython. If you know what you are doing, \u001b[39m\u001b[38;5;124m\"\u001b[39m\n\u001b[0;32m    321\u001b[0m         \u001b[38;5;124m\"\u001b[39m\u001b[38;5;124myou can use builtins\u001b[39m\u001b[38;5;124m'\u001b[39m\u001b[38;5;124m open.\u001b[39m\u001b[38;5;124m\"\u001b[39m\n\u001b[0;32m    322\u001b[0m     )\n\u001b[1;32m--> 324\u001b[0m \u001b[38;5;28;01mreturn\u001b[39;00m \u001b[43mio_open\u001b[49m\u001b[43m(\u001b[49m\u001b[43mfile\u001b[49m\u001b[43m,\u001b[49m\u001b[43m \u001b[49m\u001b[38;5;241;43m*\u001b[39;49m\u001b[43margs\u001b[49m\u001b[43m,\u001b[49m\u001b[43m \u001b[49m\u001b[38;5;241;43m*\u001b[39;49m\u001b[38;5;241;43m*\u001b[39;49m\u001b[43mkwargs\u001b[49m\u001b[43m)\u001b[49m\n",
      "\u001b[1;31mFileNotFoundError\u001b[0m: [Errno 2] No such file or directory: 'FUELCONSUMPTION_CITY.pkl'"
     ]
    }
   ],
   "source": [
    "with open(\"FUELCONSUMPTION_CITY.pkl\", \"br\") as f:\n",
    "    fuel_city = pkl.load(f)\n",
    "    \n",
    "with open(\"FUELCONSUMPTION_HWY.pkl\", \"br\") as f:\n",
    "    fuel_hwy = pkl.load(f)"
   ]
  },
  {
   "cell_type": "code",
   "execution_count": null,
   "id": "c01b1889",
   "metadata": {},
   "outputs": [],
   "source": [
    "fuel_city # Gasto de combustible en la ciudad"
   ]
  },
  {
   "cell_type": "code",
   "execution_count": null,
   "id": "5501bbc7",
   "metadata": {},
   "outputs": [],
   "source": [
    "fuel_hwy # Gasto de combustible en la autovía"
   ]
  },
  {
   "cell_type": "markdown",
   "id": "9c81ca43",
   "metadata": {},
   "source": [
    "### Ejercicio 01:\n",
    "- Define una función que tome como entrada un array y retorne la varianza. Apóyate en la siguiente fórmula:\n",
    "$$ \\mathbf{S^2} = \\frac{1}{n} \\sum_{i=1}^{n} (x_{i}^{2}- \\overline{x}^2)$$\n",
    "\n",
    "- Comprueba que funciona correctamente comparándola con _**np.var()**_."
   ]
  },
  {
   "cell_type": "code",
   "execution_count": 1,
   "id": "63287467",
   "metadata": {},
   "outputs": [],
   "source": [
    "def entrada_array(lista):\n",
    "    lista = []\n",
    "    \n",
    "    np.var(lista)"
   ]
  },
  {
   "cell_type": "code",
   "execution_count": null,
   "id": "c3ede09c",
   "metadata": {},
   "outputs": [],
   "source": [
    "print(entrada_array)"
   ]
  },
  {
   "cell_type": "code",
   "execution_count": null,
   "id": "95420d3b",
   "metadata": {},
   "outputs": [],
   "source": []
  },
  {
   "cell_type": "markdown",
   "id": "1c505847",
   "metadata": {},
   "source": [
    "### Ejercicio 02:\n",
    "- Define una función que tome como entrada un array y retorne la desviación estándar. Apóyate en la siguiente fórmula:\n",
    "\n",
    "$$ \\mathbf{S} = \\sigma = \\sqrt{\\frac{1}{n} \\sum_{i=1}^{n} x_{i}^{2}- \\overline{x}^2}$$\n",
    "\n",
    "- Comprueba que funciona correctamente comprobándola con _**np.std()**_."
   ]
  },
  {
   "cell_type": "code",
   "execution_count": null,
   "id": "1213ab63",
   "metadata": {},
   "outputs": [],
   "source": []
  },
  {
   "cell_type": "code",
   "execution_count": null,
   "id": "586efd5b",
   "metadata": {},
   "outputs": [],
   "source": []
  },
  {
   "cell_type": "code",
   "execution_count": null,
   "id": "f6bc5089",
   "metadata": {},
   "outputs": [],
   "source": []
  },
  {
   "cell_type": "markdown",
   "id": "d9ae7ca8",
   "metadata": {},
   "source": [
    "### Ejercicio 03:\n",
    "- Define una función que tome como parámetro un array y retorne los siguientes estadísticos en forma de diccionario:\n",
    "    - Mínimo\n",
    "    - Máximo\n",
    "    - Media\n",
    "    - Cuartiles Q1, Q2 (mediana) y Q3\n",
    "    - Rango intercuartil\n",
    "    - Desviación estándar\n",
    "- Prueba la función con los arrays **fuel_city** y **fuel_hwy**."
   ]
  },
  {
   "cell_type": "code",
   "execution_count": null,
   "id": "bd4982b7",
   "metadata": {},
   "outputs": [
    {
     "data": {
      "text/plain": [
       "'Q1 = np.quantile(a =fuel_city_hwy, q = 0.25, interpolation = \"lower\")\\nQ3 = np.quantile(a =fuel_city_hwy, q =  0.75, interpolation = \"lower\")\\n\\nIQR = Q3 -Q1\\nprint(IQR)\\nprint(np.median(fuel_city_hwy))'"
      ]
     },
     "execution_count": 6,
     "metadata": {},
     "output_type": "execute_result"
    }
   ],
   "source": [
    "\n",
    "def fuel_city_hwy(fuel):\n",
    "    #crear diccionario\n",
    "    diccionario = dict()\n",
    "    \n",
    "# ESTADISTICA\n",
    "\n",
    "    min = np.min(fuel)\n",
    "    max = np.max(fuel)\n",
    "    media = np.mean(fuel)\n",
    "    Q1 = np.quantile(fuel, 0.25)\n",
    "    Q2 = np.median(fuel)\n",
    "    Q3 = np.quantile(fuel, 0.75)\n",
    "    IQR = Q3 - Q1\n",
    "    desvi = np.std(fuel)\n",
    "    \n",
    "# AGREGAR ESTADISTICA AL DICCIONARIO\n",
    "\n",
    "    diccionario[\"min\"] = min\n",
    "    diccionario[\"max\"] = max\n",
    "    diccionario[\"mean\"] = media\n",
    "    diccionario[\"Q1\"] = Q1\n",
    "    diccionario[\"median\"] = Q2\n",
    "    diccionario[\"Q3\"] = Q3\n",
    "    diccionario[\"IQR\"] = IQR\n",
    "    diccionario[\"std\"] = desvi\n",
    "    \n",
    "# HACER UN RETURN PARA RETORNAR EL DICCIONARIO\n",
    "\n",
    "    return diccionario\n",
    "\n",
    "# Función para pintar un gráfico\n",
    "\n",
    "def pinta_grafico(fuel):\n",
    "    min = np.min(fuel)\n",
    "    max = np.max(fuel)\n",
    "    media = np.mean(fuel)\n",
    "    Q1 = np.quantile(fuel, 0.25)\n",
    "    Q2 = np.median(fuel)\n",
    "    Q3 = np.quantile(fuel, 0.75)\n",
    "    IQR = Q3 - Q1\n",
    "    desvi = np.std(fuel)\n",
    "    \n",
    "    plt.figure(figsize=(10, 6))\n",
    "    plt.boxplot(fuel, showmeans=True, orientation=\"horizontal\")\n",
    "    plt.axvline(Q1, color=\"red\", linestyle=\"dashed\", linewidth=2, label=(f\"Q1: {Q1:.1f}\"))\n",
    "    plt.axvline(Q3, color=\"green\", linestyle=\"dashed\", linewidth=2, label=(f\"Q3: {Q3:.1f}\"))\n",
    "    plt.axvline(min, color=\"orange\", linestyle=\"dashed\", linewidth=2, label=(f\"Min: {min:.1f}\"))\n",
    "    plt.axvline(max, color=\"black\", linestyle=\"dashed\", linewidth=2, label=(f\"Max: {max:.1f}\"))\n",
    "    plt.axvline(media, color=\"red\", linestyle=\"dashed\", linewidth=2, label=(f\"Media: {media:.1f}\"))    \n",
    "    plt.axvline(Q2, color=\"blue\", linestyle=\"dashed\", linewidth=2, label=(f\"Q2: {Q2:.1f}\"))\n",
    "    plt.axvline(IQR, color=\"yellow\", linestyle=\"dashed\", linewidth=2, label=(f\"IQR: {IQR:.1f}\")) \n",
    "    plt.axvline(desvi, color=\"purple\", linestyle=\"dashed\", linewidth=2, label=(f\"desvi: {desvi:.1f}\"))\n",
    "    \n",
    "    print(fuel_city_hwy)        \n",
    "    \n",
    "\"\"\"print(f\"Mediana combustible en ciudad: {np.median(fuel_city)}\")\n",
    "print(f\"Mediana combustible en carretera: {np.median(fuel_hwy)}\")\n",
    "\n",
    "print(f\"Mediana combustible en ciudad: {np.min(fuel_city)}\")\n",
    "print(f\"Mediana combustible en carretera: {np.min(fuel_hwy)}\")\n",
    "print(f\"Mediana combustible en ciudad: {np.max(fuel_city)}\")\n",
    "print(f\"Mediana combustible en carretera: {np.max(fuel_hwy)}\")\"\"\"\n",
    "    \n",
    "    \n",
    "\"\"\"Q1 = np.quantile(a =fuel_city_hwy, q = 0.25, interpolation = \"lower\")\n",
    "Q3 = np.quantile(a =fuel_city_hwy, q =  0.75, interpolation = \"lower\")\n",
    "\n",
    "IQR = Q3 -Q1\n",
    "print(IQR)\n",
    "print(np.median(fuel_city_hwy))\"\"\"\n",
    "\n",
    "  \n",
    "\n",
    "\n",
    "\n",
    "\n",
    "\n",
    "   \n",
    "     "
   ]
  },
  {
   "cell_type": "code",
   "execution_count": null,
   "id": "19a1c1cf",
   "metadata": {},
   "outputs": [],
   "source": []
  },
  {
   "cell_type": "code",
   "execution_count": null,
   "id": "f4968122",
   "metadata": {},
   "outputs": [],
   "source": []
  },
  {
   "cell_type": "markdown",
   "id": "0345cc95",
   "metadata": {},
   "source": [
    "### Ejercicio 04:\n",
    "- Define una función que toma un array como entrada, y retorna el mismo array sin los outliers.\n",
    "- Utiliza la **Puntuación Z** para el filtrado de valores atípicos.\n",
    "- Prueba la función con los arrays _**fuel_city**_ y _**fuel_hwy**_, y calcula qué porcentaje de datos se ha conservado tras el filtrado de outliers para cada caso."
   ]
  },
  {
   "cell_type": "code",
   "execution_count": null,
   "id": "34c3dc41",
   "metadata": {},
   "outputs": [],
   "source": []
  },
  {
   "cell_type": "code",
   "execution_count": null,
   "id": "f33af770",
   "metadata": {},
   "outputs": [],
   "source": []
  },
  {
   "cell_type": "code",
   "execution_count": null,
   "id": "f570b5cc",
   "metadata": {
    "scrolled": true,
    "tags": []
   },
   "outputs": [],
   "source": []
  },
  {
   "cell_type": "markdown",
   "id": "20871489",
   "metadata": {},
   "source": [
    "### Ejercicio 05:\n",
    "- Repite el ejercicio 4 usando la **Valla de Tukey** para el filtrado de outliers."
   ]
  },
  {
   "cell_type": "code",
   "execution_count": null,
   "id": "bb1ff5ae",
   "metadata": {},
   "outputs": [],
   "source": []
  },
  {
   "cell_type": "code",
   "execution_count": null,
   "id": "71f76f16",
   "metadata": {},
   "outputs": [],
   "source": []
  },
  {
   "cell_type": "code",
   "execution_count": null,
   "id": "e4d3f070",
   "metadata": {},
   "outputs": [],
   "source": []
  },
  {
   "cell_type": "markdown",
   "id": "d620e448",
   "metadata": {},
   "source": [
    "### Ejercicio 06:\n",
    "- Define una función que tome como parámetro un array y dibuje un plot. El plot debe tener:\n",
    "    - La distribución de los datos del array como un histograma de color verde pastel.\n",
    "    - Una línea vertical de color rojo que represente el promedio.\n",
    "    - Una línea vertical de color dorado que represente la mediana.\n",
    "    - Dos líneas verticales discontinuas de color gris claro que representen $-z$ y $z$.\n",
    "    - Dos líneas verticales discontinuas de color gris oscuro que representen $-3z$ y $3z$.\n",
    "    - Los outliers se tienen que marcar con un color naranja chillón.\n",
    "    \n",
    "- Aprovecha las funciones del ejercicio 1 y del ejercicio 3 para obtener los estadísticos necesarios y filtrar los outliers.\n",
    "- Guiate por los notebooks de teoría para cambiar el color de las gráficas y hacer las lineas verticales."
   ]
  },
  {
   "cell_type": "code",
   "execution_count": null,
   "id": "2822ce59",
   "metadata": {},
   "outputs": [],
   "source": []
  },
  {
   "cell_type": "code",
   "execution_count": null,
   "id": "375daf80",
   "metadata": {},
   "outputs": [],
   "source": []
  },
  {
   "cell_type": "code",
   "execution_count": null,
   "id": "8da02181",
   "metadata": {},
   "outputs": [],
   "source": []
  },
  {
   "cell_type": "markdown",
   "id": "92312187",
   "metadata": {},
   "source": [
    "### Ejercicio 07:\n",
    "- Define una función que estandarice los datos de un array usando la siguiente fórmula:\n",
    "\n",
    "$$\n",
    "z = \\frac{x_{i} - \\overline{x}}{\\sigma_{x}} = \\frac{x_{i} - mean(x)}{std(x)}\n",
    "$$\n",
    "\n",
    "- Prueba estandarizar un array y hacer un plot usando la función del ejercicio anterior. ¿Qué diferencias ves?"
   ]
  },
  {
   "cell_type": "code",
   "execution_count": null,
   "id": "2c20293e",
   "metadata": {},
   "outputs": [],
   "source": []
  },
  {
   "cell_type": "code",
   "execution_count": null,
   "id": "e27c2a4b",
   "metadata": {},
   "outputs": [],
   "source": []
  },
  {
   "cell_type": "code",
   "execution_count": null,
   "id": "08f390b7",
   "metadata": {
    "scrolled": true
   },
   "outputs": [],
   "source": []
  },
  {
   "cell_type": "markdown",
   "id": "c58e07c9",
   "metadata": {},
   "source": [
    "### Ejercicio 08:\n",
    "- Aplica una transformación de logaritmo neperiano (_**np.log**_) a los datos de **fuel_city** y **fuel_hwy** y vuelve a probar a usar la función del ejercicio 6.\n",
    "- ¿Cómo son ahora las distribuciones?\n",
    "- ¿Qué ocurre con los outliers?"
   ]
  },
  {
   "cell_type": "code",
   "execution_count": null,
   "id": "d9e078e6",
   "metadata": {},
   "outputs": [],
   "source": []
  },
  {
   "cell_type": "code",
   "execution_count": null,
   "id": "8de23669",
   "metadata": {},
   "outputs": [],
   "source": []
  },
  {
   "cell_type": "code",
   "execution_count": null,
   "id": "7ae349fa",
   "metadata": {},
   "outputs": [],
   "source": []
  },
  {
   "cell_type": "code",
   "execution_count": null,
   "id": "d6f0ddb4",
   "metadata": {},
   "outputs": [],
   "source": []
  },
  {
   "cell_type": "markdown",
   "id": "18fbbe24",
   "metadata": {},
   "source": [
    "### Ejercicio 09:\n",
    "- Defina una función que calcule la correlación entre dos arrays. Apoyate en las siguientes fórmulas:\n",
    "\n",
    "$$\n",
    "\\Large Cov(X, Y) = \\frac{\\sum_{i=1}^{n}(x_{i} - \\bar{x})(y_{i} - \\bar{y})}{n}\\\\\n",
    "$$\n",
    "\n",
    "<br>\n",
    "\n",
    "$$\n",
    "\\Large \\rho = \\frac{Cov(X, Y)}{\\sigma_{x}\\sigma_{y}}\n",
    "$$\n",
    "\n",
    "- Usa la función para calcular la correlación entre **fuel_city** y **fuel_hwy**.\n",
    "- Comprueba que funciona correctamente contrastando con el resultado de la función _**stats.pearsonr()**_."
   ]
  },
  {
   "cell_type": "code",
   "execution_count": null,
   "id": "ff824254",
   "metadata": {},
   "outputs": [],
   "source": []
  },
  {
   "cell_type": "code",
   "execution_count": null,
   "id": "614ad95d",
   "metadata": {},
   "outputs": [],
   "source": []
  },
  {
   "cell_type": "code",
   "execution_count": null,
   "id": "52292226",
   "metadata": {},
   "outputs": [],
   "source": []
  },
  {
   "cell_type": "markdown",
   "id": "43b83070",
   "metadata": {},
   "source": [
    "### Ejercicio 10:\n",
    "- Elige un array y toma 50 elementos aleatorios. Calcula las estadísticas para ese nuevo conjunto de datos.\n",
    "- ¿Son similares estos resultados a los obtenidos de la población total?"
   ]
  },
  {
   "cell_type": "code",
   "execution_count": null,
   "id": "d4f15b0d",
   "metadata": {},
   "outputs": [],
   "source": []
  },
  {
   "cell_type": "code",
   "execution_count": null,
   "id": "a87da64b",
   "metadata": {},
   "outputs": [],
   "source": []
  },
  {
   "cell_type": "markdown",
   "id": "9e6aec89",
   "metadata": {},
   "source": [
    "### Ejercicio 11:\n",
    "- Repite el ejercicio anterior, esta vez creando 5 conjuntos de 50 elementos aleatorios.\n",
    "    - Calcula las estadísticas para cada conjunto de 50 elementos, guarda estos datos.\n",
    "    - Calcula las estadísticas de los resultados anteriores.\n",
    "    - ¿Son similares estos datos con los obtenidos de la población total?\n",
    "    - Prueba hacerlo creando 100 conjuntos de 50 elementos esta vez."
   ]
  },
  {
   "cell_type": "code",
   "execution_count": null,
   "id": "d8da7d8b",
   "metadata": {},
   "outputs": [],
   "source": []
  },
  {
   "cell_type": "code",
   "execution_count": null,
   "id": "abf3e30d",
   "metadata": {},
   "outputs": [],
   "source": []
  },
  {
   "cell_type": "code",
   "execution_count": null,
   "id": "281e60f9",
   "metadata": {},
   "outputs": [],
   "source": []
  },
  {
   "cell_type": "code",
   "execution_count": null,
   "id": "e8fb1bf2",
   "metadata": {},
   "outputs": [],
   "source": []
  },
  {
   "cell_type": "markdown",
   "id": "df5757a4-047e-4a49-ab47-1e53acf29dac",
   "metadata": {},
   "source": [
    "### Ejercicio 12:\n",
    "- Realiza un contraste de hipótesis y comprueba si se gasta más combustible en la ciudad que en la autovía.\n",
    "    - **fuel_city**: gasto en ciudad\n",
    "    - **fuel_hwy**: gasto en autovía\n",
    "    - $H_0$: el gasto de combustible en la ciudad es igual o menor al gasto en la autovía.\n",
    "    - $H_1$: el gasto de combustible en la ciudad es mayor al gasto en la autovía.\n",
    "    \n",
    "_**Pista**: hay que aplicar una prueba **t de Student** para **muestras pareadas** `stats.ttest_rel()`, o una prueba **Wilcoxon** para **muestras pareadas** `stats.wilcoxon()`, dependiendo de si se cumplen los supuestos de normalidad y homogeneidad de varianzas. Pueden especificar el parámetro `alternative` con el argumento `\"greater\"` para un contraste de tipo `a>b`._"
   ]
  },
  {
   "cell_type": "code",
   "execution_count": null,
   "id": "b234845d",
   "metadata": {},
   "outputs": [],
   "source": []
  },
  {
   "cell_type": "code",
   "execution_count": null,
   "id": "630480b4",
   "metadata": {},
   "outputs": [],
   "source": []
  },
  {
   "cell_type": "code",
   "execution_count": null,
   "id": "d5ef88d3",
   "metadata": {},
   "outputs": [],
   "source": []
  },
  {
   "cell_type": "code",
   "execution_count": null,
   "id": "b8339f79",
   "metadata": {},
   "outputs": [],
   "source": []
  },
  {
   "cell_type": "code",
   "execution_count": null,
   "id": "767e21c0",
   "metadata": {},
   "outputs": [],
   "source": []
  },
  {
   "cell_type": "code",
   "execution_count": null,
   "id": "6dcfe91f",
   "metadata": {},
   "outputs": [],
   "source": []
  },
  {
   "cell_type": "code",
   "execution_count": null,
   "id": "8efa5c5d",
   "metadata": {
    "tags": []
   },
   "outputs": [],
   "source": [
    "##############################################################################################################################"
   ]
  }
 ],
 "metadata": {
  "kernelspec": {
   "display_name": "Python 3",
   "language": "python",
   "name": "python3"
  },
  "language_info": {
   "codemirror_mode": {
    "name": "ipython",
    "version": 3
   },
   "file_extension": ".py",
   "mimetype": "text/x-python",
   "name": "python",
   "nbconvert_exporter": "python",
   "pygments_lexer": "ipython3",
   "version": "3.13.1"
  }
 },
 "nbformat": 4,
 "nbformat_minor": 5
}
