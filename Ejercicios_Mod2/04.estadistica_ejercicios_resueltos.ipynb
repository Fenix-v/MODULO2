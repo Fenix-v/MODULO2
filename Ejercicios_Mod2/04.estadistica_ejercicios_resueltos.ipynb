{
 "cells": [
  {
   "cell_type": "markdown",
   "id": "136d8ea3",
   "metadata": {},
   "source": [
    "## Estadística  Ejercicios"
   ]
  },
  {
   "cell_type": "code",
   "execution_count": null,
   "id": "7320a211",
   "metadata": {},
   "outputs": [],
   "source": [
    "import numpy as np\n",
    "import matplotlib\n",
    "import matplotlib.pyplot as plt\n",
    "import scipy\n",
    "from scipy import stats\n",
    "\n",
    "import random\n",
    "import pickle as pkl"
   ]
  },
  {
   "cell_type": "code",
   "execution_count": null,
   "id": "704c11c9-9745-473b-a966-de77eed97734",
   "metadata": {},
   "outputs": [],
   "source": [
    "# Versiones\n",
    "\n",
    "print(f\"numpy=={np.__version__}\")\n",
    "print(f\"matplotlib=={matplotlib.__version__}\")\n",
    "print(f\"scipy=={scipy.__version__}\")"
   ]
  },
  {
   "cell_type": "code",
   "execution_count": null,
   "id": "2dbace1d",
   "metadata": {},
   "outputs": [],
   "source": [
    "with open(\"../Data/FUELCONSUMPTION_CITY.pkl\", \"br\") as f:\n",
    "    fuel_city = pkl.load(f)\n",
    "    \n",
    "with open(\"../Data/FUELCONSUMPTION_HWY.pkl\", \"br\") as f:\n",
    "    fuel_hwy = pkl.load(f)"
   ]
  },
  {
   "cell_type": "code",
   "execution_count": null,
   "id": "c01b1889",
   "metadata": {},
   "outputs": [],
   "source": [
    "fuel_city # Gasto de combustible en la ciudad"
   ]
  },
  {
   "cell_type": "code",
   "execution_count": null,
   "id": "5501bbc7",
   "metadata": {},
   "outputs": [],
   "source": [
    "fuel_hwy # Gasto de combustible en la autovía"
   ]
  },
  {
   "cell_type": "markdown",
   "id": "9c81ca43",
   "metadata": {},
   "source": [
    "### Ejercicio 01:\n",
    "- Define una función que tome como entrada un array y retorne la varianza. Apóyate en la siguiente fórmula:\n",
    "$$ \\mathbf{S^2} = \\frac{1}{n} \\sum_{i=1}^{n} (x_{i}^{2}- \\overline{x}^2)$$\n",
    "\n",
    "- Comprueba que funciona correctamente comparándola con _**np.var()**_."
   ]
  },
  {
   "cell_type": "code",
   "execution_count": null,
   "id": "63287467",
   "metadata": {},
   "outputs": [],
   "source": [
    "def varianza(array):\n",
    "    mean_pow = np.mean(array)**2\n",
    "    tot = []\n",
    "    for elem in array:\n",
    "        tot.append(elem**2 - mean_pow)\n",
    "        \n",
    "    return np.sum(tot)/len(array)"
   ]
  },
  {
   "cell_type": "code",
   "execution_count": null,
   "id": "c3ede09c",
   "metadata": {},
   "outputs": [],
   "source": [
    "varianza(fuel_hwy)"
   ]
  },
  {
   "cell_type": "code",
   "execution_count": null,
   "id": "95420d3b",
   "metadata": {},
   "outputs": [],
   "source": [
    "np.var(fuel_hwy)"
   ]
  },
  {
   "cell_type": "markdown",
   "id": "1c505847",
   "metadata": {},
   "source": [
    "### Ejercicio 02:\n",
    "- Define una función que tome como entrada un array y retorne la desviación estándar. Apóyate en la siguiente fórmula:\n",
    "\n",
    "$$ \\mathbf{S} = \\sigma = \\sqrt{\\frac{1}{n} \\sum_{i=1}^{n} x_{i}^{2}- \\overline{x}^2}$$\n",
    "\n",
    "- Comprueba que funciona correctamente comprobándola con _**np.std()**_."
   ]
  },
  {
   "cell_type": "code",
   "execution_count": null,
   "id": "1213ab63",
   "metadata": {},
   "outputs": [],
   "source": [
    "def std(array):\n",
    "    return np.sqrt(varianza(array))"
   ]
  },
  {
   "cell_type": "code",
   "execution_count": null,
   "id": "586efd5b",
   "metadata": {},
   "outputs": [],
   "source": [
    "std(fuel_hwy)"
   ]
  },
  {
   "cell_type": "code",
   "execution_count": null,
   "id": "f6bc5089",
   "metadata": {},
   "outputs": [],
   "source": [
    "np.std(fuel_hwy)"
   ]
  },
  {
   "cell_type": "markdown",
   "id": "d9ae7ca8",
   "metadata": {},
   "source": [
    "### Ejercicio 03:\n",
    "- Define una función que tome como parámetro un array y retorne los siguientes estadísticos en forma de diccionario:\n",
    "    - Mínimo\n",
    "    - Máximo\n",
    "    - Media\n",
    "    - Cuartiles Q1, Q2 (mediana) y Q3\n",
    "    - Rango intercuartil\n",
    "    - Desviación estándar\n",
    "- Prueba la función con los arrays **fuel_city** y **fuel_hwy**."
   ]
  },
  {
   "cell_type": "code",
   "execution_count": null,
   "id": "bd4982b7",
   "metadata": {},
   "outputs": [],
   "source": [
    "def estadisticas(array):\n",
    "    \n",
    "    minimo = np.min(array)\n",
    "    maximo = np.max(array)\n",
    "    \n",
    "    media = np.mean(array)\n",
    "    \n",
    "    q1 = np.quantile(array, 0.25)\n",
    "    mediana = np.median(array)\n",
    "    q3 = np.quantile(array, 0.75)\n",
    "    \n",
    "    ric = q3 - q1\n",
    "    \n",
    "    desv = np.std(array)\n",
    "    \n",
    "    dict_datos = {\"min\" : minimo,\n",
    "                  \"max\" : maximo,\n",
    "                  \"mean\" : media,\n",
    "                  \"q1\" : q1,\n",
    "                  \"median\" : mediana,\n",
    "                  \"q3\" : q3,\n",
    "                  \"RIC\" : ric,\n",
    "                  \"std\" : desv}\n",
    "    \n",
    "    return dict_datos"
   ]
  },
  {
   "cell_type": "code",
   "execution_count": null,
   "id": "19a1c1cf",
   "metadata": {},
   "outputs": [],
   "source": [
    "datos = [fuel_city, fuel_hwy]\n",
    "\n",
    "for dato in datos:\n",
    "    print(estadisticas(dato))"
   ]
  },
  {
   "cell_type": "code",
   "execution_count": null,
   "id": "f4968122",
   "metadata": {},
   "outputs": [],
   "source": []
  },
  {
   "cell_type": "markdown",
   "id": "0345cc95",
   "metadata": {},
   "source": [
    "### Ejercicio 04:\n",
    "- Define una función que toma un array como entrada, y retorna el mismo array sin los outliers.\n",
    "- Utiliza la **Puntuación Z** para el filtrado de valores atípicos.\n",
    "- Prueba la función con los arrays _**fuel_city**_ y _**fuel_hwy**_, y calcula qué porcentaje de datos se ha conservado tras el filtrado de outliers para cada caso."
   ]
  },
  {
   "cell_type": "code",
   "execution_count": null,
   "id": "34c3dc41",
   "metadata": {},
   "outputs": [],
   "source": [
    "def quitar_outliers(array, z = 3):\n",
    "    media = np.mean(array)\n",
    "    std = np.std(array)\n",
    "    \n",
    "    lim_izq = media - z*std\n",
    "    lim_der = media + z*std\n",
    "    \n",
    "    datos_sin_outliers = [elemento for elemento in array if lim_izq < elemento < lim_der]\n",
    "    \n",
    "    return datos_sin_outliers"
   ]
  },
  {
   "cell_type": "code",
   "execution_count": null,
   "id": "f33af770",
   "metadata": {},
   "outputs": [],
   "source": [
    "fuel_city_sin_outliers = quitar_outliers(fuel_city)\n",
    "fuel_hwy_sin_outliers = quitar_outliers(fuel_hwy)"
   ]
  },
  {
   "cell_type": "code",
   "execution_count": null,
   "id": "f570b5cc",
   "metadata": {
    "scrolled": true,
    "tags": []
   },
   "outputs": [],
   "source": [
    "city_conservado = len(fuel_city_sin_outliers)/len(fuel_city)\n",
    "hwy_conservado = len(fuel_hwy_sin_outliers)/len(fuel_hwy)\n",
    "\n",
    "print(f\"Se han conservado {city_conservado:.4f} de datos de fuel_city\")\n",
    "print(f\"Se han conservado {hwy_conservado:.4f} de datos de fuel_hwy\")"
   ]
  },
  {
   "cell_type": "markdown",
   "id": "20871489",
   "metadata": {},
   "source": [
    "### Ejercicio 05:\n",
    "- Repite el ejercicio 4 usando la **Valla de Tukey** para el filtrado de outliers."
   ]
  },
  {
   "cell_type": "code",
   "execution_count": null,
   "id": "bb1ff5ae",
   "metadata": {},
   "outputs": [],
   "source": [
    "def quitar_outliers_tukey(array, k=1.5):\n",
    "    q1 = np.quantile(array, 0.25)\n",
    "    q3 = np.quantile(array, 0.75)\n",
    "    \n",
    "    ric = q3 - q1\n",
    "    \n",
    "    lim_izq = q1 - k*ric\n",
    "    lim_der = q3 + k*ric\n",
    "    \n",
    "    datos_sin_outliers = [elemento for elemento in array if lim_izq < elemento < lim_der]\n",
    "    return datos_sin_outliers"
   ]
  },
  {
   "cell_type": "code",
   "execution_count": null,
   "id": "71f76f16",
   "metadata": {},
   "outputs": [],
   "source": [
    "fuel_city_sin_outliers = quitar_outliers_tukey(fuel_city)\n",
    "fuel_hwy_sin_outliers = quitar_outliers_tukey(fuel_hwy)"
   ]
  },
  {
   "cell_type": "code",
   "execution_count": null,
   "id": "e4d3f070",
   "metadata": {},
   "outputs": [],
   "source": [
    "city_conservado = len(fuel_city_sin_outliers)/len(fuel_city)\n",
    "hwy_conservado = len(fuel_hwy_sin_outliers)/len(fuel_hwy)\n",
    "\n",
    "print(f\"Se han conservado {city_conservado:.4f} de datos de fuel_city\")\n",
    "print(f\"Se han conservado {hwy_conservado:.4f} de datos de fuel_hwy\")"
   ]
  },
  {
   "cell_type": "markdown",
   "id": "d620e448",
   "metadata": {},
   "source": [
    "### Ejercicio 06:\n",
    "- Define una función que tome como parámetro un array y dibuje un plot. El plot debe tener:\n",
    "    - La distribución de los datos del array como un histograma de color verde pastel.\n",
    "    - Una línea vertical de color rojo que represente el promedio.\n",
    "    - Una línea vertical de color dorado que represente la mediana.\n",
    "    - Dos líneas verticales discontinuas de color gris claro que representen $-z$ y $z$.\n",
    "    - Dos líneas verticales discontinuas de color gris oscuro que representen $-3z$ y $3z$.\n",
    "    - Los outliers se tienen que marcar con un color naranja chillón.\n",
    "    \n",
    "- Aprovecha las funciones del ejercicio 1 y del ejercicio 3 para obtener los estadísticos necesarios y filtrar los outliers.\n",
    "- Guiate por los notebooks de teoría para cambiar el color de las gráficas y hacer las lineas verticales."
   ]
  },
  {
   "cell_type": "code",
   "execution_count": null,
   "id": "2822ce59",
   "metadata": {},
   "outputs": [],
   "source": [
    "def plot_datos(array):\n",
    "    info = estadisticas(array)\n",
    "    \n",
    "    datos_normales = quitar_outliers_tukey(array)\n",
    "    outliers = np.array([elem for elem in array if elem not in datos_normales])\n",
    "    \n",
    "    plt.hist(datos_normales, bins=50, color=\"lightgreen\")\n",
    "    plt.hist(outliers, bins=50, color=\"orange\")\n",
    "    \n",
    "    plt.axvline(info[\"mean\"], color=\"red\")\n",
    "    plt.axvline(info[\"median\"], color=\"gold\")\n",
    "    \n",
    "    plt.axvline(info[\"mean\"]-info[\"std\"], color=\"black\", alpha=0.25, linestyle=\"--\")\n",
    "    plt.axvline(info[\"mean\"]+info[\"std\"], color=\"black\", alpha=0.25, linestyle=\"--\")\n",
    "    \n",
    "    plt.axvline(info[\"mean\"]-info[\"std\"]*3, color=\"black\", alpha=0.75, linestyle=\"--\")\n",
    "    plt.axvline(info[\"mean\"]+info[\"std\"]*3, color=\"black\", alpha=0.75, linestyle=\"--\")\n",
    "    \n",
    "    plt.show()\n",
    "    \n",
    "plot_datos(fuel_hwy)"
   ]
  },
  {
   "cell_type": "code",
   "execution_count": null,
   "id": "375daf80",
   "metadata": {},
   "outputs": [],
   "source": []
  },
  {
   "cell_type": "code",
   "execution_count": null,
   "id": "8da02181",
   "metadata": {},
   "outputs": [],
   "source": []
  },
  {
   "cell_type": "markdown",
   "id": "92312187",
   "metadata": {},
   "source": [
    "### Ejercicio 07:\n",
    "- Define una función que estandarice los datos de un array usando la siguiente fórmula:\n",
    "\n",
    "$$\n",
    "z = \\frac{x_{i} - \\overline{x}}{\\sigma_{x}} = \\frac{x_{i} - mean(x)}{std(x)}\n",
    "$$\n",
    "\n",
    "- Prueba estandarizar un array y hacer un plot usando la función del ejercicio anterior. ¿Qué diferencias ves?"
   ]
  },
  {
   "cell_type": "code",
   "execution_count": null,
   "id": "2c20293e",
   "metadata": {},
   "outputs": [],
   "source": [
    "def estandarizacion(array):\n",
    "    \n",
    "    info = estadisticas(array)\n",
    "    \n",
    "    lista_norm = np.array([(x - info[\"mean\"]) / info[\"std\"] for x in array])\n",
    "        \n",
    "    return lista_norm"
   ]
  },
  {
   "cell_type": "code",
   "execution_count": null,
   "id": "e27c2a4b",
   "metadata": {},
   "outputs": [],
   "source": [
    "fuel_hwy_norm = estandarizacion(fuel_hwy)"
   ]
  },
  {
   "cell_type": "code",
   "execution_count": null,
   "id": "08f390b7",
   "metadata": {
    "scrolled": true,
    "tags": []
   },
   "outputs": [],
   "source": [
    "plot_datos(fuel_hwy_norm)"
   ]
  },
  {
   "cell_type": "markdown",
   "id": "c58e07c9",
   "metadata": {},
   "source": [
    "### Ejercicio 08:\n",
    "- Aplica una transformación de logaritmo neperiano (_**np.log**_) a los datos de **fuel_city** y **fuel_hwy** y vuelve a probar a usar la función del ejercicio 6.\n",
    "- ¿Cómo son ahora las distribuciones?\n",
    "- ¿Qué ocurre con los outliers?"
   ]
  },
  {
   "cell_type": "code",
   "execution_count": null,
   "id": "d9e078e6",
   "metadata": {},
   "outputs": [],
   "source": [
    "plot_datos(fuel_hwy)"
   ]
  },
  {
   "cell_type": "code",
   "execution_count": null,
   "id": "8de23669",
   "metadata": {},
   "outputs": [],
   "source": [
    "plot_datos(np.log(fuel_hwy))"
   ]
  },
  {
   "cell_type": "code",
   "execution_count": null,
   "id": "7ae349fa",
   "metadata": {},
   "outputs": [],
   "source": [
    "plot_datos(fuel_city)"
   ]
  },
  {
   "cell_type": "code",
   "execution_count": null,
   "id": "d6f0ddb4",
   "metadata": {},
   "outputs": [],
   "source": [
    "plot_datos(np.log(fuel_city))"
   ]
  },
  {
   "cell_type": "markdown",
   "id": "18fbbe24",
   "metadata": {},
   "source": [
    "### Ejercicio 09:\n",
    "- Defina una función que calcule la correlación entre dos arrays. Apoyate en las siguientes fórmulas:\n",
    "\n",
    "$$\n",
    "\\Large Cov(X, Y) = \\frac{\\sum_{i=1}^{n}(x_{i} - \\bar{x})(y_{i} - \\bar{y})}{n}\\\\\n",
    "$$\n",
    "\n",
    "<br>\n",
    "\n",
    "$$\n",
    "\\Large \\rho = \\frac{Cov(X, Y)}{\\sigma_{x}\\sigma_{y}}\n",
    "$$\n",
    "\n",
    "- Usa la función para calcular la correlación entre **fuel_city** y **fuel_hwy**.\n",
    "- Comprueba que funciona correctamente contrastando con el resultado de la función _**stats.pearsonr()**_."
   ]
  },
  {
   "cell_type": "code",
   "execution_count": null,
   "id": "ff824254",
   "metadata": {},
   "outputs": [],
   "source": [
    "from scipy.stats import pearsonr # Correlación de Pearson\n",
    "\n",
    "def cov(array_1, array_2):\n",
    "    mean_1 = np.mean(array_1)\n",
    "    mean_2 = np.mean(array_2)\n",
    "    \n",
    "    tot = []\n",
    "    for a, b in zip(array_1, array_2):\n",
    "        res = (a - mean_1)*(b - mean_1)\n",
    "        tot.append(res)\n",
    "        \n",
    "    return sum(tot)/len(array_1)\n",
    "\n",
    "def corr(array_1, array_2):\n",
    "    std_1 = np.std(array_1)\n",
    "    std_2 = np.std(array_2)\n",
    "    \n",
    "    cv = cov(array_1, array_2)\n",
    "    \n",
    "    return cv / (std_1 * std_2)"
   ]
  },
  {
   "cell_type": "code",
   "execution_count": null,
   "id": "614ad95d",
   "metadata": {},
   "outputs": [],
   "source": [
    "corr(fuel_city, fuel_hwy)"
   ]
  },
  {
   "cell_type": "code",
   "execution_count": null,
   "id": "52292226",
   "metadata": {},
   "outputs": [],
   "source": [
    "stats.pearsonr(fuel_city, fuel_hwy)[0]"
   ]
  },
  {
   "cell_type": "markdown",
   "id": "43b83070",
   "metadata": {},
   "source": [
    "### Ejercicio 10:\n",
    "- Elige un array y toma 50 elementos aleatorios. Calcula las estadísticas para ese nuevo conjunto de datos.\n",
    "- ¿Son similares estos resultados a los obtenidos de la población total?"
   ]
  },
  {
   "cell_type": "code",
   "execution_count": null,
   "id": "d4f15b0d",
   "metadata": {},
   "outputs": [],
   "source": [
    "sample = random.choices(population = fuel_city, k = 50)\n",
    "\n",
    "estadisticas(sample)"
   ]
  },
  {
   "cell_type": "code",
   "execution_count": null,
   "id": "a87da64b",
   "metadata": {},
   "outputs": [],
   "source": [
    "estadisticas(fuel_city)"
   ]
  },
  {
   "cell_type": "markdown",
   "id": "9e6aec89",
   "metadata": {},
   "source": [
    "### Ejercicio 11:\n",
    "- Repite el ejercicio anterior, esta vez creando 5 conjuntos de 50 elementos aleatorios.\n",
    "    - Calcula las estadísticas para cada conjunto de 50 elementos, guarda estos datos.\n",
    "    - Calcula las estadísticas de los resultados anteriores.\n",
    "    - ¿Son similares estos datos con los obtenidos de la población total?\n",
    "    - Prueba hacerlo creando 100 conjuntos de 50 elementos esta vez."
   ]
  },
  {
   "cell_type": "code",
   "execution_count": null,
   "id": "d8da7d8b",
   "metadata": {},
   "outputs": [],
   "source": [
    "# Fuel City\n",
    "\n",
    "samples = [[random.choices(population = fuel_city, k = 50)] for i in range(10)]\n",
    "\n",
    "lista_dict = list()\n",
    "\n",
    "for sample in samples:\n",
    "    \n",
    "    lista_dict.append(estadisticas(sample))\n",
    "\n",
    "    \n",
    "lista_min = np.mean([lista[\"min\"] for lista in lista_dict])\n",
    "lista_max = np.mean([lista[\"max\"] for lista in lista_dict])\n",
    "lista_mean = np.mean([lista[\"mean\"] for lista in lista_dict])\n",
    "lista_q1 = np.mean([lista[\"q1\"] for lista in lista_dict])\n",
    "lista_median = np.mean([lista[\"median\"] for lista in lista_dict])\n",
    "lista_q3 = np.mean([lista[\"q3\"] for lista in lista_dict])\n",
    "lista_ric = np.mean([lista[\"RIC\"] for lista in lista_dict])\n",
    "lista_std = np.mean([lista[\"std\"] for lista in lista_dict])\n",
    "\n",
    "samples_dict = {\"min\"    : lista_min,\n",
    "                \"max\"    : lista_max,\n",
    "                \"mean\"   : lista_mean,\n",
    "                \"q1\"    : lista_q1,\n",
    "                \"median\" : lista_median,\n",
    "                \"q3\"    : lista_q3,\n",
    "                \"RIC\"    : lista_ric,\n",
    "                \"std\"    : lista_std}"
   ]
  },
  {
   "cell_type": "code",
   "execution_count": null,
   "id": "abf3e30d",
   "metadata": {},
   "outputs": [],
   "source": [
    "samples_dict"
   ]
  },
  {
   "cell_type": "code",
   "execution_count": null,
   "id": "281e60f9",
   "metadata": {},
   "outputs": [],
   "source": [
    "estadisticas(fuel_city)"
   ]
  },
  {
   "cell_type": "code",
   "execution_count": null,
   "id": "e8fb1bf2",
   "metadata": {},
   "outputs": [],
   "source": [
    "samples = [[random.choices(population = fuel_city, k = 50)] for i in range(100)]\n",
    "\n",
    "lista_dict = list()\n",
    "\n",
    "for sample in samples:\n",
    "\n",
    "    lista_dict.append(estadisticas(sample))\n",
    "\n",
    "\n",
    "lista_min = np.mean([lista[\"min\"] for lista in lista_dict])\n",
    "lista_max = np.mean([lista[\"max\"] for lista in lista_dict])\n",
    "lista_mean = np.mean([lista[\"mean\"] for lista in lista_dict])\n",
    "lista_q1 = np.mean([lista[\"q1\"] for lista in lista_dict])\n",
    "lista_median = np.mean([lista[\"median\"] for lista in lista_dict])\n",
    "lista_q3 = np.mean([lista[\"q3\"] for lista in lista_dict])\n",
    "lista_ric = np.mean([lista[\"RIC\"] for lista in lista_dict])\n",
    "lista_std = np.mean([lista[\"std\"] for lista in lista_dict])\n",
    "\n",
    "samples_dict = {\"min\"    : lista_min,\n",
    "                \"max\"    : lista_max,\n",
    "                \"mean\"   : lista_mean,\n",
    "                \"q1\"    : lista_q1,\n",
    "                \"median\" : lista_median,\n",
    "                \"q3\"    : lista_q3,\n",
    "                \"RIC\"    : lista_ric,\n",
    "                \"std\"    : lista_std}\n",
    "\n",
    "print(f\"Samples:\\n\\n{samples_dict}\\n\\n\")\n",
    "print(f\"Poblacion:\\n\\n{estadisticas(fuel_city)}\\n\\n\")"
   ]
  },
  {
   "cell_type": "markdown",
   "id": "df5757a4-047e-4a49-ab47-1e53acf29dac",
   "metadata": {},
   "source": [
    "### Ejercicio 12:\n",
    "- Realiza un contraste de hipótesis y comprueba si se gasta más combustible en la ciudad que en la autovía.\n",
    "    - **fuel_city**: gasto en ciudad\n",
    "    - **fuel_hwy**: gasto en autovía\n",
    "    - $H_0$: el gasto de combustible en la ciudad es igual o menor al gasto en la autovía.\n",
    "    - $H_1$: el gasto de combustible en la ciudad es mayor al gasto en la autovía.\n",
    "    \n",
    "_**Pista**: hay que aplicar una prueba **t de Student** para **muestras pareadas** `stats.ttest_rel()`, o una prueba **Wilcoxon** para **muestras pareadas** `stats.wilcoxon()`, dependiendo de si se cumplen los supuestos de normalidad y homogeneidad de varianzas. Pueden especificar el parámetro `alternative` con el argumento `\"greater\"` para un contraste de tipo `a>b`._"
   ]
  },
  {
   "cell_type": "code",
   "execution_count": null,
   "id": "b234845d",
   "metadata": {},
   "outputs": [],
   "source": [
    "alpha = 0.05"
   ]
  },
  {
   "cell_type": "code",
   "execution_count": null,
   "id": "630480b4",
   "metadata": {},
   "outputs": [],
   "source": [
    "# normalidad con el test D'Agostino-Pearson\n",
    "_, p_city = stats.normaltest(fuel_city)\n",
    "_, p_hwy = stats.normaltest(fuel_hwy)\n",
    "\n",
    "# podemos usar también el test de Shapiro-Wilk para asegurarnos\n",
    "_, p_city_shap = stats.shapiro(fuel_city)\n",
    "_, p_hwy_shap = stats.shapiro(fuel_hwy)\n",
    "\n",
    "print(f\"fuel_city | D'Agostino-Pearson: {p_city:e}, Shapiro-Wilk: {p_city_shap:e}\")\n",
    "print(f\"fuel_hwy | D'Agostino-Pearson: {p_hwy:e}, Shapiro-Wilk: {p_hwy_shap:e}\")"
   ]
  },
  {
   "cell_type": "code",
   "execution_count": null,
   "id": "d5ef88d3",
   "metadata": {},
   "outputs": [],
   "source": [
    "# homogeneidad de varianzas\n",
    "_, p_lev = stats.levene(fuel_city, fuel_hwy)\n",
    "\n",
    "print(f\"homogeneidad Levene: {p_lev:e}\")"
   ]
  },
  {
   "cell_type": "code",
   "execution_count": null,
   "id": "b8339f79",
   "metadata": {},
   "outputs": [],
   "source": [
    "suposiciones = all([p>alpha for p in [p_city, p_hwy, p_city_shap, p_hwy_shap, p_lev]])\n",
    "print(\"Se cumplen\" if suposiciones else \"No se cumplen\", \"todas las suposiciones\")"
   ]
  },
  {
   "cell_type": "code",
   "execution_count": null,
   "id": "767e21c0",
   "metadata": {},
   "outputs": [],
   "source": [
    "if suposiciones:\n",
    "    # t de Student\n",
    "    t, p = stats.ttest_rel(fuel_city, fuel_hwy, alternative=\"greater\")\n",
    "else:\n",
    "    # Wilcoxon\n",
    "    stat, p = stats.wilcoxon(fuel_city, fuel_hwy, alternative=\"greater\")"
   ]
  },
  {
   "cell_type": "code",
   "execution_count": null,
   "id": "6dcfe91f",
   "metadata": {},
   "outputs": [],
   "source": [
    "interpretacion = f\"\"\"La diferencia entre los promedios es de {abs(np.mean(fuel_city) - np.mean(fuel_hwy)):f}. \\\n",
    "El valor p es {p:4e} por lo que {'es' if p<alpha else 'no es'} estadísticamente significativa.\"\"\"\n",
    "print(interpretacion)"
   ]
  },
  {
   "cell_type": "code",
   "execution_count": null,
   "id": "8efa5c5d",
   "metadata": {
    "tags": []
   },
   "outputs": [],
   "source": [
    "##############################################################################################################################"
   ]
  }
 ],
 "metadata": {
  "kernelspec": {
   "display_name": "Python 3 (ipykernel)",
   "language": "python",
   "name": "python3"
  },
  "language_info": {
   "codemirror_mode": {
    "name": "ipython",
    "version": 3
   },
   "file_extension": ".py",
   "mimetype": "text/x-python",
   "name": "python",
   "nbconvert_exporter": "python",
   "pygments_lexer": "ipython3",
   "version": "3.11.7"
  }
 },
 "nbformat": 4,
 "nbformat_minor": 5
}
